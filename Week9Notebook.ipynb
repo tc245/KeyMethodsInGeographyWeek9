{
 "cells": [
  {
   "cell_type": "markdown",
   "metadata": {},
   "source": [
    "# Practical 4 (Week 9): Hypothesis Testing with Samples\n",
    "\n",
    "By the end of this practical you should be able to:\n",
    "•\tPlot histograms by a categorical variable\n",
    "•\tConduct independent sample t test\n",
    "•\tConduct paired sample t test\n",
    "•\tCarry out Mann Whitney U test\n",
    "\n",
    "The objective of this practical is develop familiarity with the process of hypothesis testing.\n",
    "\n",
    "\n",
    "As Always the first part of the process is always loading our libraries."
   ]
  },
  {
   "cell_type": "code",
   "execution_count": 4,
   "metadata": {},
   "outputs": [
    {
     "ename": "ERROR",
     "evalue": "Error in library(car): there is no package called ‘car’\n",
     "output_type": "error",
     "traceback": [
      "Error in library(car): there is no package called ‘car’\nTraceback:\n",
      "1. library(car)"
     ]
    }
   ],
   "source": [
    "library(tidyverse)"
   ]
  },
  {
   "cell_type": "markdown",
   "metadata": {},
   "source": [
    "\n",
    "## Part 1: Setting up for t-testing\n",
    "\n",
    "This will be your first application of the t-test to investigate the difference of means.\n",
    "\n",
    "The question to be investigated is: is there income inequality across urban and rural areas? Income inequality is a very important academic and policy topic. You can carry out research on income inequality in relation to gender, social background, ethnicity, and region.\n",
    "\n",
    "Here is the meta-data for the data set: \n",
    "\n",
    "Observation:   935\n",
    "\n",
    "  1. wage: monthly earnings\n",
    "  2. hours: average weekly hours\n",
    "  3. IQ: IQ score\n",
    "  4. educ: years of education\n",
    "  5. exper: years of work experience\n",
    "  6. age: age in years\n",
    "  7. married: =1 if married\n",
    "  8. black: =1 if black\n",
    "  9. south: =1 if live in south\n",
    "  10. urban: =1 if live in SMSA (standard Metropolitan Statistical Area, USA)\n",
    " \n",
    "\n",
    "First let's load the `Wage.csv` file in your working folder. Call this data object \"wages\".\n"
   ]
  },
  {
   "cell_type": "code",
   "execution_count": 2,
   "metadata": {},
   "outputs": [
    {
     "name": "stderr",
     "output_type": "stream",
     "text": [
      "Parsed with column specification:\n",
      "cols(\n",
      "  wage = \u001b[32mcol_double()\u001b[39m,\n",
      "  hours = \u001b[32mcol_double()\u001b[39m,\n",
      "  IQ = \u001b[32mcol_double()\u001b[39m,\n",
      "  educ = \u001b[32mcol_double()\u001b[39m,\n",
      "  exper = \u001b[32mcol_double()\u001b[39m,\n",
      "  age = \u001b[32mcol_double()\u001b[39m,\n",
      "  married = \u001b[31mcol_character()\u001b[39m,\n",
      "  black = \u001b[31mcol_character()\u001b[39m,\n",
      "  south = \u001b[31mcol_character()\u001b[39m,\n",
      "  urban = \u001b[31mcol_character()\u001b[39m\n",
      ")\n",
      "\n"
     ]
    }
   ],
   "source": [
    "wages <- read_csv(\"Wage.csv\")"
   ]
  },
  {
   "cell_type": "markdown",
   "metadata": {},
   "source": [
    "Based on the output there are some things we need to tidy up including converting some of the columns into different data types. "
   ]
  },
  {
   "cell_type": "markdown",
   "metadata": {},
   "source": [
    "You are going to use this data to query whether people in urban and rural areas are paid differently. In other words, you want to answer the question: does place matter in terms of earnings? Remember this is a data set including information for a sample of 935 individuals, which is a fairly small data set nowadays. And we want to make inference for the whole population. This is not different from the common practice that pollsters interview 1000 people about their voting tendency and make inference about election results."
   ]
  },
  {
   "cell_type": "markdown",
   "metadata": {},
   "source": [
    "### Formulating hypotheses\n",
    "\n",
    "The first step in any statistical test is always to state our hypotheses. Remember, we are looking for enough evidence to reject the null hypothesis. So first, we need to define these hypotheses in a way that means they can be tested. We state the hypotheses as follows:\n",
    "\n",
    "**The Null Hypothesis: urban residents and rural residents earn the same amount of money.**\n",
    "\n",
    "**The alternative hypothesis: urban residents and rural residents earn different amount of money.**\n",
    "\n",
    "As always, there are assumptions: wages of each population (that of all individuals in a region) are normally distributed. We won’t test the normality assumption in this practical due to time constraints (though you can if you wish based on what you learned last week).\n",
    "\n",
    "A second assumption is that both sampels (and therefore the populations from which they come) have the same variance. You need to run a Levene’s test to assess whether this assumption holds and then use this information when running the t-test. \n",
    "\n",
    "Let's do this below. "
   ]
  },
  {
   "cell_type": "markdown",
   "metadata": {},
   "source": [
    "### Draw histogram\n",
    "\n",
    "The next important step is, as always, looking at some graphical representations of your data. Because we are looking at a continuous variable (wages) across a categorical variable (urban) we can use a histogram. But, this time we want to produce two historams; one for urban areas and one for rural areas.\n",
    "\n",
    "`ggplot()` has an easy way to do this using the `facet_grid()` command. Use the code below to produce a histogram:\n",
    "\n",
    "`ggplot(wages, aes(x=wage)) + geom_histogram() + facet_grid(urban ~ .)`\n"
   ]
  },
  {
   "cell_type": "code",
   "execution_count": 5,
   "metadata": {},
   "outputs": [
    {
     "name": "stderr",
     "output_type": "stream",
     "text": [
      "`stat_bin()` using `bins = 30`. Pick better value with `binwidth`.\n",
      "\n"
     ]
    },
    {
     "data": {
      "image/png": "[encoded data removed]",
      "text/plain": [
       "plot without title"
      ]
     },
     "metadata": {
      "image/png": {
       "height": 420,
       "width": 420
      }
     },
     "output_type": "display_data"
    }
   ],
   "source": [
    "ggplot(wages, aes(x=wage)) + geom_histogram() + facet_grid(urban ~ .)"
   ]
  },
  {
   "cell_type": "markdown",
   "metadata": {},
   "source": [
    "Two histograms should have appeared. The top one is for people in rural areas and the bottom one is people in urban areas. The graph shows that the range of wages for urban is greater than for other areas. \n",
    "\n",
    "Use the graphs to have a guess at where the mean value lies for each.\n",
    "\n",
    "Now produce some descriptive statistics to what the true means are. \n",
    "\n",
    "HINT: Probably the easiest way to do this is to produce subsets of the data (i.e. new data objects, one with just data on urban areas and the other for rural areas.\n",
    "\n",
    "`urban <- filter(wages, urban == \"Urban\")`\n",
    "\n",
    "`rural <- filter(wages, urban == \"Rural\")`\n",
    "\n",
    "`mean(urban$wage)`\n",
    "\n",
    "`mean(rural$wage)`"
   ]
  },
  {
   "cell_type": "code",
   "execution_count": 19,
   "metadata": {},
   "outputs": [
    {
     "data": {
      "text/html": [
       "1008.24143070045"
      ],
      "text/latex": [
       "1008.24143070045"
      ],
      "text/markdown": [
       "1008.24143070045"
      ],
      "text/plain": [
       "[1] 1008.241"
      ]
     },
     "metadata": {},
     "output_type": "display_data"
    },
    {
     "data": {
      "text/html": [
       "830.109848484848"
      ],
      "text/latex": [
       "830.109848484848"
      ],
      "text/markdown": [
       "830.109848484848"
      ],
      "text/plain": [
       "[1] 830.1098"
      ]
     },
     "metadata": {},
     "output_type": "display_data"
    }
   ],
   "source": []
  },
  {
   "cell_type": "markdown",
   "metadata": {},
   "source": [
    "The the numbers above show clearly that the sample means wage values are different between urban and rural areas. But, the histogram shows a relatively large amount of **OVERLAP** in terms of wage distribution between the two types of area. Remember, because we have used a sample here, we need a formal statistical method to determine whether or not the differences in wages between urban and rural areas is statistically significant."
   ]
  },
  {
   "cell_type": "markdown",
   "metadata": {},
   "source": [
    "## Part 2: Independent samples t-test\n",
    "\n",
    "The method we use to answer this question is an independent samples t-test. This is because sample members are independent of each other and are drawn from different areas. Statistically speaking, the question this test will assess is whether the two samples are drawn from populations with the same mean. In essence, we are testing the effect of a categorical variable (urban) on a continuous variable (wage).\n",
    "\n",
    "Before we run the independent samples t-test, we first need to determine if the variance of the wage variable is equal between the two groups of urban and rural. This is an important assumption and affects how we conduct the t-test. To test whether this assumption is true with our data we conduct a Levene’s test for equality of variances. The Levene’s test assesses the null hypothesis of equal variances between urban and rural areas. Just like with any other test we calculate a p-value to determine whether we can reject or accept this hypothesis. Let’s do this now.\n",
    "\n",
    "Unfortunately, the true levenes test is not available in noteable, so instead we will use a command called `var.test()` which tests, as the name suggests, whether variances are equal. Use the code below to do this. In the brackets we specify the variables with the numeric variable specified first i.e. wage followed by the categorical variable (i.e. urban). Both variabels are separated by the ~ sign. We then specify the data we wish to select the variables from after the comma.\n",
    "\n",
    "`var.test(wage ~ urban, wages)`\n"
   ]
  },
  {
   "cell_type": "code",
   "execution_count": 24,
   "metadata": {
    "scrolled": true
   },
   "outputs": [
    {
     "data": {
      "text/plain": [
       "\n",
       "\tF test to compare two variances\n",
       "\n",
       "data:  wage by urban\n",
       "F = 0.72388, num df = 263, denom df = 670, p-value = 0.002318\n",
       "alternative hypothesis: true ratio of variances is not equal to 1\n",
       "95 percent confidence interval:\n",
       " 0.5941313 0.8899611\n",
       "sample estimates:\n",
       "ratio of variances \n",
       "         0.7238831 \n"
      ]
     },
     "metadata": {},
     "output_type": "display_data"
    }
   ],
   "source": [
    "var.test(wage ~ urban, wages)"
   ]
  },
  {
   "cell_type": "markdown",
   "metadata": {},
   "source": [
    "Look at the result. Based on the 95% significance, should we accept or reject the null hypothesis? Does this mean that the variances are equal or unequal? HINT: Much like testing if data are normally distributed, this test can be a little confusing because accepting the null hypothesis means that we accept that the variances are equal which is normally a good thing… So based on the above we would say that the data **do not** have the same variances.\n",
    "\n",
    "Now that we have completed the Levene’s test and we know that the variances are unequal we can now go on to complete the t-test.\n",
    "\n",
    "The command to do this is pretty straightforward. We use the `t.test()` command. In the brackets we specify the information in almost the same way we did earlier when testing the variances. We specify the numeric variable first (i.e. `wage`) followed by the categorical variable (i.e. urban) separated by the `~` sign. We then specify the data we wish to use and then we also have to specify whetehr the variance is equal or not (based on our earlier test). Since our variances are not equal, we use `var.equal=FALSE`.\n",
    "\n",
    "`t.test(wage ~ urban, wages, var.equal=FALSE) `"
   ]
  },
  {
   "cell_type": "code",
   "execution_count": 26,
   "metadata": {},
   "outputs": [
    {
     "data": {
      "text/plain": [
       "\n",
       "\tWelch Two Sample t-test\n",
       "\n",
       "data:  wage by urban\n",
       "t = -6.631, df = 561.47, p-value = 7.847e-11\n",
       "alternative hypothesis: true difference in means is not equal to 0\n",
       "95 percent confidence interval:\n",
       " -230.8970 -125.3662\n",
       "sample estimates:\n",
       "mean in group Rural mean in group Urban \n",
       "           830.1098           1008.2414 \n"
      ]
     },
     "metadata": {},
     "output_type": "display_data"
    }
   ],
   "source": [
    "t.test(wage ~ urban, wages, var.equal=FALSE)"
   ]
  },
  {
   "cell_type": "markdown",
   "metadata": {},
   "source": [
    "R generates a block of output for the independent samples t-test with various bits of information. It provides the t-statistic, the degrees of freedom and the p-value. Should we accept or reject the null hypothesis here? Do urban and rural residents on average have the same earnings?"
   ]
  },
  {
   "cell_type": "markdown",
   "metadata": {
    "solution": "shown",
    "solution_first": true
   },
   "source": [
    "## Exercise 1\n",
    "\n",
    "Now complete hypothesis testing for mean wages of residents comparing the North with the South. To do this repeat the steps above but this time using south as the grouping variable. Are the variances equal? What is your NULL hypothesis for the t-test? What conclusion can you draw from the t-test result?"
   ]
  },
  {
   "cell_type": "code",
   "execution_count": null,
   "metadata": {
    "solution": "shown",
    "solution2": "hidden",
    "solution2_first": true
   },
   "outputs": [],
   "source": []
  },
  {
   "cell_type": "markdown",
   "metadata": {
    "solution": "shown",
    "solution2": "hidden"
   },
   "source": [
    "To test whether the variances are equal:\n",
    "\n",
    "`var.test(wage ~ south, wages)`\n",
    "\n",
    "To conduct the t-test:\n",
    "\n",
    "`t.test(wage ~ urban, wages, var.equal=TRUE)`\n",
    "\n",
    "Note above that we specify `var.equal=FALSE` on the basis of the first test.\n",
    "\n",
    "From this we can conclude there is a significant difference because of the very small p-value."
   ]
  },
  {
   "cell_type": "markdown",
   "metadata": {},
   "source": [
    "So far we have only conducted two-tailed t-tests. In the two-tailed test, you made no specific prediction about the direction of the effect. So at the beginning you are not sure whether people in urban areas earn more or less than people in rural areas. Or your focus is about whether there is any difference between wages of urban residents and that of rural residents, rather than whether earnings of urban residents are higher or lower than their rural counterparts. However, often we are in a position to make specific predictions about which group has the higher mean. For example, your prediction may be that on average people in urban areas earn more than people in rural areas, then you make a hypothesis with a directional effect. In this case, you can use a one-tailed t test. \n",
    "\n",
    "The null hypothesis is thus changed to: \n",
    "\n",
    "**residents in urban areas are paid equal or lower wages compare with their counterparts in rural areas**\n",
    "\n",
    "The alternative hypothesis becomes:\n",
    "\n",
    "**residents in urban areas are paid higher wages than their counterparts in rural areas**\n",
    "\n",
    "R can do this but it is actually easy to calculate ourselves from the results of the two-tailed test. The p value of a one-tailed t test is just half of the p value of the two-tailed t test. So if you obtained a p value of 0.084 from a two-tailed t test, the p value for the one-tailed t test is 0.084/2=0.042.\n",
    "\n",
    "Go back to your two-tailed t-test output from the test between urban and rural areas and calculate the p-value for the one-tailed test. HINT: you will need to figure out the number of decimal places!\n",
    "\n",
    "Now re-run the `t.test()` command but this time like this instead:\n",
    "\n",
    "`t.test(wage ~ urban, wages, var.equal=FALSE, alternative = \"less\")`\n",
    "\n",
    "You'll notice that now we specify the alternative hypothesis with `alternative = \"less\"`. Why \"less\"? We would most likely expect that urban wages would be higher than rural wages so the difference would be less than 0 (i.e. when we subtract urban wages from rural wages we would expect a minus number) hence why we specify \"less\". Run this test and verify that the p-value from this test is indeed half of the value from the two-tailed test. "
   ]
  },
  {
   "cell_type": "code",
   "execution_count": 31,
   "metadata": {},
   "outputs": [
    {
     "data": {
      "text/plain": [
       "\n",
       "\tWelch Two Sample t-test\n",
       "\n",
       "data:  wage by urban\n",
       "t = -6.631, df = 561.47, p-value = 3.924e-11\n",
       "alternative hypothesis: true difference in means is less than 0\n",
       "95 percent confidence interval:\n",
       "      -Inf -133.8719\n",
       "sample estimates:\n",
       "mean in group Rural mean in group Urban \n",
       "           830.1098           1008.2414 \n"
      ]
     },
     "metadata": {},
     "output_type": "display_data"
    }
   ],
   "source": [
    "t.test(wage ~ urban, wages, var.equal=FALSE, alternative = \"less\")"
   ]
  },
  {
   "cell_type": "markdown",
   "metadata": {},
   "source": [
    "You should be able to see that the p-value is indeed half what we originally saw in the first t-test!"
   ]
  },
  {
   "cell_type": "markdown",
   "metadata": {},
   "source": [
    "## PART 3: Paired Samples T-test\n",
    "\n",
    "A paired-samples T-test applies when there is a one-to-one correspondence between the members of the two samples. For example, each member of the sample is measured twice before and after a treatment. In this case the independent sample t test is not appropriate and you need to conduct a paired-sample test.\n",
    "\n",
    "We are going to work with a different dataset to illustrate this. We are going to use the \"hosp_admissions.csv\" file in the week 9 folder.\n",
    "\n",
    "Go ahead and load this data and take a look at it. When you load the data, make sure you name the object `hosp`.\n",
    "\n",
    "`hosp <- read_csv(\"hosp_admissions.csv\")`"
   ]
  },
  {
   "cell_type": "code",
   "execution_count": 43,
   "metadata": {},
   "outputs": [
    {
     "name": "stderr",
     "output_type": "stream",
     "text": [
      "Parsed with column specification:\n",
      "cols(\n",
      "  year = \u001b[32mcol_double()\u001b[39m,\n",
      "  hosp_admissions = \u001b[32mcol_double()\u001b[39m\n",
      ")\n",
      "\n"
     ]
    }
   ],
   "source": [
    "hosp <- read_csv(\"hosp_admissions.csv\")"
   ]
  },
  {
   "cell_type": "markdown",
   "metadata": {},
   "source": [
    "This datafile consists of a sample of 50 datazones from across Scotland (remember datazones are small geographical areas). There are two columns. Column one records, for each sampled datazone, the annual rate of hospitalisations (per 10000 people) for respiratory health conditions (variable is called \"hosp_admissions\"). The second column records the year that data come from, either 2017 or 2019 (variable is called `year`). Between these two years the Scottish Government implemented various measures that significantly reduced air pollution andimproved air quality. We are going to test if this improved air quality was associated with reductions in respiratory hospital admissions. \n",
    "\n",
    "Hopefully, you can see immediately that this is paired data because we measure the same areas twice. We will thus test the following hypotheses:\n",
    "\n",
    "**Null hypothesis: there is no difference in hospitalisations before and after improvements in air quality. In other words the difference in mean hospitalisations is zero**\n",
    "\n",
    "**Alternative hypothesis: there is a difference in hospitalisations before and after improvements in air quality. In other words the difference in mean hospitalisations is more or less than zero**"
   ]
  },
  {
   "cell_type": "markdown",
   "metadata": {
    "solution": "shown",
    "solution_first": true
   },
   "source": [
    "## Exercise \n",
    "\n",
    "With this new data produce a histogram in the same way you did earlier (i.e. with two plots, one for each year).\n",
    "\n",
    "Next, calculate the mean hospitalisation for each year, the same way as you did earlier (i.e. by producing subsets)"
   ]
  },
  {
   "cell_type": "code",
   "execution_count": null,
   "metadata": {
    "solution": "shown",
    "solution2": "hidden",
    "solution2_first": true
   },
   "outputs": [],
   "source": []
  },
  {
   "cell_type": "markdown",
   "metadata": {},
   "source": [
    "Now we will conduct our paired samples t-test. We do this using the same command (i.e. `t.test()`) only this time we specify `paired = TRUE` in the brackets. We also no longer need to test if the variances are the same in each group because since the two samples are paired the variances will be statistically similar. So, the full code is below: \n",
    "\n",
    "`t.test(hosp_admissions ~ year, hosp, paired = TRUE)`\n",
    "\n",
    "Run this below."
   ]
  },
  {
   "cell_type": "markdown",
   "metadata": {
    "solution": "shown",
    "solution2": "hidden"
   },
   "source": [
    "To produce the histogram broken down by year:\n",
    "\n",
    "`ggplot(hosp, aes(x=hosp_admissions)) + geom_histogram(binwidth=30) + facet_grid(year ~ .)`\n",
    "\n",
    "Code to produce subsets:\n",
    "\n",
    "`year2017 <- filter(hosp, year == 2017)`\n",
    "\n",
    "`year2019 <- filter(hosp, year == 2019)`\n",
    "\n",
    "And to estimate the means in each year:\n",
    "\n",
    "`mean(year2017$hosp_admissions)`\n",
    "\n",
    "`mean(year2019$hosp_admissions)`"
   ]
  },
  {
   "cell_type": "code",
   "execution_count": 44,
   "metadata": {},
   "outputs": [
    {
     "data": {
      "text/plain": [
       "\n",
       "\tWelch Two Sample t-test\n",
       "\n",
       "data:  hosp_admissions by year\n",
       "t = 1.5253, df = 97.083, p-value = 0.1304\n",
       "alternative hypothesis: true difference in means is not equal to 0\n",
       "95 percent confidence interval:\n",
       " -3.356217 25.640217\n",
       "sample estimates:\n",
       "mean in group 2017 mean in group 2019 \n",
       "          1295.020           1283.878 \n"
      ]
     },
     "metadata": {},
     "output_type": "display_data"
    }
   ],
   "source": [
    "t.test(hosp_admissions ~ year, hosp, var.equal=FALSE)"
   ]
  },
  {
   "cell_type": "markdown",
   "metadata": {},
   "source": [
    "The output from the paired sample t-test is very similar to the output from the independent samples t-test; we have a t statistic, degrees of freedom and a p-value. We also have the tested hypothesis, the confidence interval of the difference and the mean estimate of the differences between the two variables. \n",
    "\n",
    "Check the output; is the p-value less than 0.05? If yes, then you can reject the null hypothesis that there is no change in hospitalisation rate before and after the change in air quality. Otherwise you can accept the null hypothesis.\n",
    "\n",
    "In actual fact, a paired samples t-test is no different to a simple one sample t-test which tests whether the mean of something is different to a specified hypothesised value, in this case zero. In other words, all we are asking is; “is the mean difference between the variables different to zero?”.\n",
    "\n",
    "We can demonstrate "
   ]
  },
  {
   "cell_type": "code",
   "execution_count": 51,
   "metadata": {},
   "outputs": [
    {
     "data": {
      "text/plain": [
       "\n",
       "\tPaired t-test\n",
       "\n",
       "data:  hosp_admissions by year\n",
       "t = 3.1681, df = 49, p-value = 0.002642\n",
       "alternative hypothesis: true difference in means is not equal to 0\n",
       "95 percent confidence interval:\n",
       "  4.074508 18.209492\n",
       "sample estimates:\n",
       "mean of the differences \n",
       "                 11.142 \n"
      ]
     },
     "metadata": {},
     "output_type": "display_data"
    }
   ],
   "source": [
    "t.test(hosp_admissions ~ year, hosp, paired = TRUE)"
   ]
  },
  {
   "cell_type": "code",
   "execution_count": null,
   "metadata": {},
   "outputs": [],
   "source": []
  }
 ],
 "metadata": {
  "kernelspec": {
   "display_name": "R with Stan",
   "language": "R",
   "name": "ir"
  },
  "language_info": {
   "codemirror_mode": "r",
   "file_extension": ".r",
   "mimetype": "text/x-r-source",
   "name": "R",
   "pygments_lexer": "r",
   "version": "3.6.3"
  }
 },
 "nbformat": 4,
 "nbformat_minor": 4
}
