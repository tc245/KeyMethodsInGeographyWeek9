{
 "cells": [
  {
   "cell_type": "markdown",
   "metadata": {},
   "source": [
    "# Practical 4 (Week 9): Hypothesis Testing with Samples\n",
    "\n",
    "By the end of this practical you should be able to:\n",
    "\n",
    "- Plot pairs of histograms for a continuous variable by a categorical variable\n",
    "- Conduct an independent samples t test\n",
    "- Conduct paired samples t test\n",
    "- Carry out Mann Whitney U test\n",
    "\n",
    "The objective of this practical is develop familiarity with the process of hypothesis testing.\n",
    "\n",
    "\n",
    "As always the first part of the process is always loading our libraries.\n",
    "\n",
    "`library(tidyverse)`"
   ]
  },
  {
   "cell_type": "code",
   "execution_count": null,
   "metadata": {},
   "outputs": [],
   "source": []
  },
  {
   "cell_type": "markdown",
   "metadata": {},
   "source": [
    "\n",
    "## Part 1: Setting up for t-testing\n",
    "\n",
    "The question we wish to investigate is: is there income inequality across urban and rural areas? Income inequality is a very important academic and policy topic. You can carry out research on income inequality in relation to gender, social background, ethnicity, and region among many other things.\n",
    "\n",
    "Here is some information on the data we are going to be using to answer this question which is called `wage.csv` in your folder:\n",
    "\n",
    "Number of observations:   935\n",
    "\n",
    "  1. wage: monthly earnings\n",
    "  2. hours: average weekly hours\n",
    "  3. IQ: IQ score\n",
    "  4. educ: years of education\n",
    "  5. exper: years of work experience\n",
    "  6. age: age in years\n",
    "  7. married: =1 if married\n",
    "  8. black: =1 if black\n",
    "  9. south: =1 if live in south\n",
    "  10. urban: =1 if live in SMSA (standard Metropolitan Statistical Area, USA)\n",
    " \n",
    "\n",
    "First let's load the `wage.csv` file in your working folder. Call this data object \"wages\".\n"
   ]
  },
  {
   "cell_type": "code",
   "execution_count": null,
   "metadata": {},
   "outputs": [],
   "source": []
  },
  {
   "cell_type": "markdown",
   "metadata": {},
   "source": [
    "You are going to use this data to query whether people in urban and rural areas are paid differently. In other words, you want to answer the question: does place matter in terms of earnings? Remember this is a data set including information for a sample of 935 individuals, which is a fairly small data set nowadays. We want to make inferences about the whole population based on this sample. This is not different from the common practice that pollsters use when predicting elections. they will typically interview around 1000 people about their voting tendency and use this to make inferences about election results."
   ]
  },
  {
   "cell_type": "markdown",
   "metadata": {},
   "source": [
    "### Formulating hypotheses\n",
    "\n",
    "The first step in any statistical test is always to state our hypotheses. Remember, we are looking for enough evidence to reject the null hypothesis. So first, we need to define these hypotheses in a way that means they can actually be tested by our statistical tests (i.e. only two possible outcomes etc). We state the hypotheses as follows:\n",
    "\n",
    "**The Null Hypothesis: urban residents and rural residents earn the same amount of money.**\n",
    "\n",
    "**The alternative hypothesis: urban residents and rural residents earn different amount of money.**\n",
    "\n",
    "As always, there are assumptions: wages of each population (that of all individuals in a region) are normally distributed. We won’t test the normality assumption in this practical due to time constraints (though you can if you wish based on what you learned last week).\n",
    "\n",
    "There is a second assumption, but more on that later."
   ]
  },
  {
   "cell_type": "markdown",
   "metadata": {},
   "source": [
    "### Draw histogram\n",
    "\n",
    "The next important step is, as always, looking at some graphical representations of your data. Because we are looking at a continuous variable (wages) across a categorical variable (urban) we can use a histogram. But, this time we want to produce two histograms; one for urban areas and one for rural areas.\n",
    "\n",
    "`ggplot()` has an easy way to do this using the `facet_grid()` command. Use the code below to produce a histogram:\n",
    "\n",
    "`ggplot(wages, aes(x=wage)) + geom_histogram() + facet_grid(rows=vars(urban))`\n",
    "\n",
    "Note how in the brackets of `facet_grid()` we specify `rows=vars(urban)`? This is basically saying split the plot into two rows with each row containing a separate histogram based on levels of the `urban` variable. This is really powerful!"
   ]
  },
  {
   "cell_type": "code",
   "execution_count": null,
   "metadata": {},
   "outputs": [],
   "source": []
  },
  {
   "cell_type": "markdown",
   "metadata": {},
   "source": [
    "Two histograms should have appeared. The top one is for people in rural areas and the bottom one is people in urban areas. The graph shows that the range of wages for urban is greater than for other areas. \n",
    "\n",
    "Use the graphs to have a guess at where the mean value lies for each.\n",
    "\n",
    "Now produce some descriptive statistics to see what the true means are. \n",
    "\n",
    "HINT: Probably the easiest way to do this is to produce subsets of the data (i.e. new data objects, one with just data on urban areas and the other for rural areas.\n",
    "\n",
    "`urban <- filter(wages, urban == \"Urban\")`\n",
    "\n",
    "`rural <- filter(wages, urban == \"Rural\")`\n",
    "\n",
    "`mean(urban$wage)`\n",
    "\n",
    "`mean(rural$wage)`"
   ]
  },
  {
   "cell_type": "code",
   "execution_count": null,
   "metadata": {},
   "outputs": [],
   "source": []
  },
  {
   "cell_type": "code",
   "execution_count": null,
   "metadata": {},
   "outputs": [],
   "source": []
  },
  {
   "cell_type": "code",
   "execution_count": null,
   "metadata": {},
   "outputs": [],
   "source": []
  },
  {
   "cell_type": "code",
   "execution_count": null,
   "metadata": {},
   "outputs": [],
   "source": []
  },
  {
   "cell_type": "markdown",
   "metadata": {},
   "source": [
    "The numbers above show clearly that the sample mean wage values are different between urban and rural areas. But, the histogram shows a relatively large amount of **OVERLAP** in terms of wage distribution between the two types of area. Remember, because we have used a sample here, we need a formal statistical method to determine whether or not the differences in wages between urban and rural areas are **statistically significant**."
   ]
  },
  {
   "cell_type": "markdown",
   "metadata": {},
   "source": [
    "## Part 2: Independent samples t-test\n",
    "\n",
    "The method we use to answer this question is an independent samples t-test. This is because sample members are independent of each other and are drawn from different areas. Statistically speaking, the question this test will assess is whether the two samples are drawn from populations with the same mean. In essence, we are testing the effect of a categorical variable (urban) on a continuous variable (wage).\n",
    "\n",
    "Before we run the independent samples t-test, we first need to determine if the variance of the wage variable is equal between the two groups of urban and rural (this is the second assumption I mentioned earlier). This is an important assumption and affects how we conduct the t-test. To test whether this assumption is true with our data we conduct a Levene’s test for equality of variances. The Levene’s test assesses the null hypothesis of **equal variances** between urban and rural areas. Just like with any other test we calculate a p-value to determine whether we can reject or accept this hypothesis. Let’s do this now.\n",
    "\n",
    "Unfortunately, the true levenes test is not available in noteable, so instead we will use a command called `var.test()` which tests, as the name suggests, whether variances are equal. Use the code below to do this. In the brackets we specify the variables with the numeric variable specified first i.e. wage followed by the categorical variable (i.e. urban). Both variables are separated by the `~` sign. We then specify the data we wish to select the variables from after the comma.\n",
    "\n",
    "`var.test(wage ~ urban, wages)`\n"
   ]
  },
  {
   "cell_type": "code",
   "execution_count": null,
   "metadata": {
    "scrolled": true
   },
   "outputs": [],
   "source": []
  },
  {
   "cell_type": "markdown",
   "metadata": {},
   "source": [
    "Look at the result. Based on a 95% significance level, should we accept or reject the null hypothesis? Does this mean that the variances are equal or unequal? HINT: Much like testing if data are normally distributed, this test can be a little confusing because accepting the null hypothesis means that we accept that the variances are equal which is normally a good thing… So based on the above we would say that the data **do not** have the same variances.\n",
    "\n",
    "Now that we have completed the test and we know that the variances are unequal we can now go on to complete the t-test.\n",
    "\n",
    "The command to do this is pretty straightforward using the `t.test()` command. In the brackets we specify the information in almost the same way we did earlier when testing the variances. We specify the numeric variable first (i.e. `wage`) followed by the categorical variable (i.e. `urban`) separated by the `~` sign. We then specify the data we wish to use and then we also have to specify whether the variance is equal or not (based on our earlier test). Since our variances are not equal, we use `var.equal=FALSE`.\n",
    "\n",
    "`t.test(wage ~ urban, wages, var.equal=FALSE) `"
   ]
  },
  {
   "cell_type": "code",
   "execution_count": null,
   "metadata": {},
   "outputs": [],
   "source": []
  },
  {
   "cell_type": "markdown",
   "metadata": {},
   "source": [
    "R generates a block of output for the independent samples t-test with various bits of information. It provides the t-statistic, the degrees of freedom and the p-value. Remember what all of these mean from what we have learned this week:\n",
    "\n",
    "1. **The t statistic itself**: Gives us a standardised measure of how far into the tails of our sampling distribution the sample estimate would be if the null hypothesis were true. The bigger the number the further away from the centre of the distribution.\n",
    "\n",
    "2. **Degrees of freedom**: This is basically the sample size but because we are using the t distribution it is the sample size minus 1.\n",
    "\n",
    "3. **P-value**: Probabillity that the null hypothesis is true. i.e. the probabillity that the sample came from the hypothesised sampling distribution.\n",
    "\n",
    "Should we accept or reject the null hypothesis here? Do urban and rural residents on average have the same earnings?"
   ]
  },
  {
   "cell_type": "markdown",
   "metadata": {
    "solution": "shown",
    "solution_first": true
   },
   "source": [
    "## Exercise 1\n",
    "\n",
    "Now complete hypothesis testing for mean wages of residents comparing the North with the South. To do this repeat the steps above but this time using south as the grouping variable. Complete the steps below:\n",
    "\n",
    "1. Are the variances equal? \n",
    "2. State the NULL hypothesis for the t-test.\n",
    "3. Complete a t-test analysis.\n",
    "4. What conclusion can you draw from the t-test result?"
   ]
  },
  {
   "cell_type": "code",
   "execution_count": null,
   "metadata": {
    "solution": "shown"
   },
   "outputs": [],
   "source": []
  },
  {
   "cell_type": "code",
   "execution_count": null,
   "metadata": {
    "solution": "shown",
    "solution2": "hidden",
    "solution2_first": true
   },
   "outputs": [],
   "source": []
  },
  {
   "cell_type": "markdown",
   "metadata": {
    "solution": "shown",
    "solution2": "hidden"
   },
   "source": [
    "1. To test whether the variances are equal:\n",
    "\n",
    "    `var.test(wage ~ south, wages)`\n",
    "    \n",
    "\n",
    "2. Null hypothesis: \"There is no difference in mean wages between the North and the South\"\n",
    "\n",
    "\n",
    "3. To conduct the t-test:\n",
    "\n",
    "    `t.test(wage ~ south, wages, var.equal=TRUE)`\n",
    "\n",
    "    Note above that we specify `var.equal=TRUE` on the basis of the first test.\n",
    "    \n",
    "\n",
    "4. From this we can we can reject the null hypothesis because of the very small p-value and conclude that there is differences in wages between the north and the south.\n",
    "\n",
    "\n",
    "**End of Solution**"
   ]
  },
  {
   "cell_type": "markdown",
   "metadata": {},
   "source": [
    "---\n",
    "\n",
    "So far we have only conducted two-tailed t-tests. In the two-tailed test, you made no specific prediction about the direction of the effect. So at the beginning you are not sure whether people in urban areas earn more or less than people in rural areas. Or your focus is about whether there is **any** difference between wages of urban residents and that of rural residents, rather than whether earnings of urban residents are higher or lower than their rural counterparts. However, often we are in a position to make specific predictions about which group has the higher mean. For example, your prediction may be that on average people in urban areas earn more than people in rural areas, then you make a hypothesis with a directional effect. In this case, you can use a one-tailed t test. \n",
    "\n",
    "The null hypothesis is thus changed to: \n",
    "\n",
    "**residents in urban areas are paid equal or lower wages compare with their counterparts in rural areas**\n",
    "\n",
    "The alternative hypothesis becomes:\n",
    "\n",
    "**residents in urban areas are paid higher wages than their counterparts in rural areas**\n",
    "\n",
    "R can do this but it is actually easy to calculate ourselves from the results of the two-tailed test. The p value of a one-tailed t test is just half of the p value of the two-tailed t test. So if you obtained a p value of 0.084 from a two-tailed t test, the p value for the one-tailed t test is 0.084/2=0.042.\n",
    "\n",
    "Go back to your two-tailed t-test output from the test between urban and rural areas and calculate the p-value for the one-tailed test. HINT: you will need to figure out the number of decimal places!\n",
    "\n",
    "Now re-run the `t.test()` command but this time like this instead:\n",
    "\n",
    "`t.test(wage ~ urban, wages, var.equal=FALSE, alternative = \"less\")`\n",
    "\n",
    "You'll notice that now we specify the alternative hypothesis with `alternative = \"less\"`. Why \"less\"? We would most likely expect that urban wages would be higher than rural wages so the difference would be less than 0 (i.e. when we subtract urban wages from rural wages we would expect a minus number). Run this test..."
   ]
  },
  {
   "cell_type": "code",
   "execution_count": null,
   "metadata": {},
   "outputs": [],
   "source": []
  },
  {
   "cell_type": "markdown",
   "metadata": {},
   "source": [
    "You should be able to see that the p-value is indeed half what we originally saw in the first t-test!"
   ]
  },
  {
   "cell_type": "markdown",
   "metadata": {
    "solution": "shown",
    "solution_first": true
   },
   "source": [
    "## Exercise 2\n",
    "\n",
    "Now complete hypothesis testing for mean wages of black residents compared to non-black residents. Only this time do a one-tailed test. Complete the steps below:\n",
    "\n",
    "1. Are the variances equal? \n",
    "2. State the NULL hypothesis for the t-test (remembering to state the direction of the effect...)\n",
    "3. Complete a one-tailed t-test analysis. \n",
    "4. What conclusion can you draw from the t-test result?"
   ]
  },
  {
   "cell_type": "code",
   "execution_count": null,
   "metadata": {
    "solution": "shown"
   },
   "outputs": [],
   "source": []
  },
  {
   "cell_type": "code",
   "execution_count": null,
   "metadata": {
    "solution": "shown",
    "solution2": "hidden",
    "solution2_first": true
   },
   "outputs": [],
   "source": []
  },
  {
   "cell_type": "markdown",
   "metadata": {
    "solution": "shown",
    "solution2": "hidden"
   },
   "source": [
    "1. To test whether the variances are equal:\n",
    "\n",
    "    `var.test(wage ~ black, wages)`\n",
    "    \n",
    "\n",
    "2. Null hypothesis: \"Mean wages of white residents are equal to or lower than black residents\"\n",
    "\n",
    "\n",
    "3. To conduct the t-test:\n",
    "\n",
    "    `t.test(wage ~ black, wages, var.equal=FALSE, alternative = \"less\")`\n",
    "\n",
    "    Note above that we specify `var.equal=FALSE` on the basis of the first test.\n",
    "    \n",
    "\n",
    "4. From this we can we can reject the null hypothesis because of the very small p-value and conclude that white residents wages are higher than black residents wages.\n",
    "\n",
    "\n",
    "**End of Solution**\n",
    "\n",
    "---"
   ]
  },
  {
   "cell_type": "markdown",
   "metadata": {},
   "source": [
    "## Part 3: Paired Samples T-test\n",
    "\n",
    "A paired-samples T-test applies when there is a one-to-one correspondence between the members of the two samples. For example, each member of the sample is measured twice before and after a treatment. In this case the independent sample t test is not appropriate and you need to conduct a paired-sample test.\n",
    "\n",
    "We are going to work with a different dataset to illustrate this. We are going to use the \"hosp_admissions.csv\" file in the week 9 folder.\n",
    "\n",
    "Go ahead and load this data and take a look at it. When you load the data, make sure you name the object `hosp`.\n",
    "\n",
    "`hosp <- read_csv(\"hosp_admissions.csv\")`\n",
    "\n",
    "*One thing to bear in mind is that this data is **not** real. I have simulated the data for the purposes of illustration!*"
   ]
  },
  {
   "cell_type": "code",
   "execution_count": null,
   "metadata": {},
   "outputs": [],
   "source": []
  },
  {
   "cell_type": "code",
   "execution_count": null,
   "metadata": {},
   "outputs": [],
   "source": []
  },
  {
   "cell_type": "markdown",
   "metadata": {},
   "source": [
    "This datafile consists of a sample of 50 datazones from across Scotland (remember datazones are small geographical areas). There are three columns:\n",
    "\n",
    "- Column one is called \"area_id\" and is an identifier variable that distinguishes between different areas. Because this is **paired** data each area appears in the data twice, once for 2017 and once for 2019 (hence why the area_id value is repeated for each area).\n",
    "\n",
    "- The second column records the year that the data come from, either 2017 or 2019 (variable is called `year`). \n",
    "\n",
    "- The third column records, for each sampled datazone, the annual rate of hospitalisations (per 10000 people) for respiratory health conditions (variable is called \"hosp_admissions\"). \n",
    "\n",
    "Between the two years for whcih we have data (i.e. 2017 and 2019) the Scottish Government implemented various measures that significantly reduced air pollution and therefore improved air quality. We are going to test if this improved air quality was associated with reductions in respiratory hospital admissions. \n",
    "\n",
    "Hopefully, you can see immediately that this is paired data because we measure the same areas twice. We will thus test the following hypotheses:\n",
    "\n",
    "**Null hypothesis: there is no difference in hospitalisations before and after improvements in air quality. In other words the difference in mean hospitalisations is zero**\n",
    "\n",
    "**Alternative hypothesis: there is a difference in hospitalisations before and after improvements in air quality. In other words the difference in mean hospitalisations is more or less than zero**"
   ]
  },
  {
   "cell_type": "markdown",
   "metadata": {
    "solution": "shown",
    "solution_first": true
   },
   "source": [
    "## Exercise 3\n",
    "\n",
    "1. Based on the hypotheses stated above, should we do a one or a two tailed test with this data?\n",
    "\n",
    "2. With this new data produce a histogram in the same way you did earlier (i.e. with two plots, one for each year).\n",
    "\n",
    "3. Next, calculate the mean hospitalisation for each year, the same way as you did earlier (i.e. by producing subsets).\n",
    "\n",
    "4. Have a think about what we might expect the t-test anaysis to show based on these descriptive outputs. "
   ]
  },
  {
   "cell_type": "code",
   "execution_count": null,
   "metadata": {
    "solution": "shown"
   },
   "outputs": [],
   "source": []
  },
  {
   "cell_type": "code",
   "execution_count": null,
   "metadata": {
    "solution": "shown"
   },
   "outputs": [],
   "source": []
  },
  {
   "cell_type": "code",
   "execution_count": null,
   "metadata": {
    "solution": "shown"
   },
   "outputs": [],
   "source": []
  },
  {
   "cell_type": "code",
   "execution_count": null,
   "metadata": {
    "solution": "shown"
   },
   "outputs": [],
   "source": []
  },
  {
   "cell_type": "code",
   "execution_count": null,
   "metadata": {
    "solution": "shown",
    "solution2": "hidden",
    "solution2_first": true
   },
   "outputs": [],
   "source": []
  },
  {
   "cell_type": "markdown",
   "metadata": {
    "solution": "shown",
    "solution2": "hidden"
   },
   "source": [
    "1. We need a two-tailed test\n",
    "\n",
    "\n",
    "2. To produce the histogram broken down by year:\n",
    "\n",
    "`ggplot(hosp, aes(x=hosp_admissions)) + geom_histogram(binwidth=30) + facet_grid(rows=vars(year))`\n",
    "\n",
    "3. Code to produce subsets:\n",
    "\n",
    "`year2017 <- filter(hosp, year == 2017)`\n",
    "\n",
    "`year2019 <- filter(hosp, year == 2019)`\n",
    "\n",
    " And to estimate the means in each year:\n",
    "\n",
    "`mean(year2017$hosp_admissions)`\n",
    "\n",
    "`mean(year2019$hosp_admissions)`\n",
    "\n",
    "**End of Solution**\n",
    "\n"
   ]
  },
  {
   "cell_type": "markdown",
   "metadata": {},
   "source": [
    "---\n",
    "Now we will conduct our paired samples t-test. We do this using the same command (i.e. `t.test()`) only this time we specify `paired = TRUE` in the brackets. We also no longer need to test if the variances are the same in each group because since the two samples are paired the variances will be statistically similar. So, the full code is below: \n",
    "\n",
    "`t.test(hosp_admissions ~ year, hosp, paired = TRUE)`\n",
    "\n",
    "Run this below."
   ]
  },
  {
   "cell_type": "code",
   "execution_count": null,
   "metadata": {},
   "outputs": [],
   "source": []
  },
  {
   "cell_type": "markdown",
   "metadata": {},
   "source": [
    "The output from the paired sample t-test is very similar to the output from the independent samples t-test; we have a t statistic, degrees of freedom and a p-value. We also have the tested hypothesis, the confidence interval of the difference and the mean estimate of the differences between the two variables. \n",
    "\n",
    "Check the output; is the p-value less than 0.05? If yes, then you can reject the null hypothesis (using a neyman-pearson threshold approach!) that there is no change in hospitalisation rate before and after the change in air quality. Otherwise you can accept the null hypothesis.\n",
    "\n",
    "In actual fact, a paired samples t-test is no different to a simple one sample t-test which tests whether the mean of something is different to a specified hypothesised value, in this case zero. In other words, all we are asking is; “is the mean difference between the variables different to zero?”.\n",
    "\n",
    "We can demonstrate this with the data by actually running a one sample t-test. But first we have to rearrange the data so that it is organised into columns rather than rows (i.e. into only 50 rows of data but with a separate column for each year). We will do this with the code below:\n",
    "\n",
    "`wide_data <- hosp %>%\n",
    "        spread(key = year, value = hosp_admissions, sep = \"\") %>%\n",
    "        mutate(diff = year2017-year2019)`\n",
    "\n",
    "Here we are using something called `spread()`. This literally means \"spreading\" out the data and converting rows into columns. Once you run the code and look at the newly created data object (called `wide_data`) it should be clear what it has done when compared to the original data. The code also includes a calculation to produce a variable called `diff` which is just the difference between 2017 and 2019 hospitalisation rated.  **Note you do not need to understand this code (e.g. the `%>%`), it is not neccessary for the course so dont worry if it looks different or you are not sure what is going on! If you are interested in learning more about the code and what it is doing ask one of the tutors and demonstrators!**\n",
    "\n",
    "Once you have run the code above, view the new data object to see how it compares to the old data."
   ]
  },
  {
   "cell_type": "code",
   "execution_count": null,
   "metadata": {},
   "outputs": [],
   "source": []
  },
  {
   "cell_type": "code",
   "execution_count": null,
   "metadata": {},
   "outputs": [],
   "source": []
  },
  {
   "cell_type": "markdown",
   "metadata": {},
   "source": [
    "Now, let's run the code to produce the one-sample t-test. Now remember that a one sample t-test takes the mean of **one-sample** and compares to a single other number. In this case, we are testing whether the mean of our new difference variable is different to a value of zero (in other words that there **is** a difference). We use the code below to do this and it is pretty straightforward:\n",
    "\n",
    "`t.test(wide_data$diff, mu = 0)`\n",
    "\n",
    "We again use the `t.test()` function, we then specify the variable in brackets (using the `$` convention again) but then we also need this extra bit which is `mu = 0` which is where we specify the value against which we wish to test (i.e. zero in this case). Run the code below..."
   ]
  },
  {
   "cell_type": "code",
   "execution_count": null,
   "metadata": {},
   "outputs": [],
   "source": []
  },
  {
   "cell_type": "markdown",
   "metadata": {},
   "source": [
    "Now repeat the paired samples test that we did before so we can compare the output. Remember we want to see if we get the same answer...\n",
    "\n",
    "`t.test(hosp_admissions ~ year, hosp, paired = TRUE)`"
   ]
  },
  {
   "cell_type": "code",
   "execution_count": null,
   "metadata": {},
   "outputs": [],
   "source": []
  },
  {
   "cell_type": "markdown",
   "metadata": {},
   "source": [
    "You should see exactly the same results between the two (i.e. the p-value should be exactly the same).\n",
    "\n",
    "Now, we can of course also treat the data as independent samples if we wished. We wouldnt do this in practice because the data are clearly paired. But I want to illustrate what would happen if we did. \n",
    "\n",
    "So let's go ahead and run the test as if they were independent samples:\n",
    "\n",
    "`t.test(hosp_admissions ~ year, hosp, var.equal=TRUE, alternative = \"two.sided\")`"
   ]
  },
  {
   "cell_type": "code",
   "execution_count": null,
   "metadata": {},
   "outputs": [],
   "source": []
  },
  {
   "cell_type": "markdown",
   "metadata": {},
   "source": [
    "If you look at the output, you should be able to see that the the fidderence in means is no longer statistically significant because the p-value is now 0.13 (i.e. a 13% chance the null hypothesis is true) compared to the p value of 0.003 from the paired test. Remember, this is because the paired test tests for **differences** between the same area. In other words, it is able to **remove** all of the variation that exists **between** different places. \n",
    "\n",
    "Let's dig into this a little more. Because we have removed this variation, the standard error is much smaller because the sample standard deviation that we use to calculate our standard error is much smaller. Remember; the standard error is the standard deviation of all of the samples from a population with a given sample size. The smaller the standard error the less variation in samples, the bigger the standard error the more variation in samples. Thus, when the standard error is lower we are more likely to see a statistically significant result (because there is less variation amongst all of the samples from the population from which it came).\n",
    "\n",
    "Because of these statistical and mathematical properties, the paired samples test is a much more powerful statistical approach than the independent samples version and is why we have things like longitudinal datasets which collect information on the same individual over many years in some cases (the UK Understanding Society dataset is a good example: https://www.understandingsociety.ac.uk/). The downside is that this data is often more difficult and more expensive to collect. It's harder to follow the same people over multiple years than it is to collect new samples each year!"
   ]
  },
  {
   "cell_type": "markdown",
   "metadata": {},
   "source": [
    "## Part 4: Tests with non-normal data (Non-parametric test)\n",
    "\n",
    "Everything we have done up to now has assumed that the data are normally distributed. Now we are going to look at what we do to test for differences between samples when the data are **not** normally distributed.\n",
    "\n",
    "Let's develop an example. Suppose that you are asked to carry out research on how tourists perceive the various services in Edinburgh such as accommodation, transport, food, cultural facilities, and retailing. You designed a questionnaire to collect data. You want to find out whether people from other countries have different perceptions on the service industry in Edinburgh. So you sampled some visitors who were from UK and some from other countries. In total 20 people filled the questionnaire and there are five questions. Interviewees give a score between 1 to 5 for each question (1, very dissatisfied, 2, somewhat dissatisfied, 3 neutral, 4, somewhat satisfied, 5 very satisfied). The data set includes combined scores for each respondent and their origin.\n",
    "\n",
    "The data is stored in the datafile called \"hospitality.csv\" so let's load the data with:\n",
    "\n",
    "`hospitality <- read_csv(\"hospitality.csv\")`\n",
    "\n",
    "And take a look at what the data looks like.\n"
   ]
  },
  {
   "cell_type": "code",
   "execution_count": null,
   "metadata": {},
   "outputs": [],
   "source": []
  },
  {
   "cell_type": "code",
   "execution_count": null,
   "metadata": {},
   "outputs": [],
   "source": []
  },
  {
   "cell_type": "markdown",
   "metadata": {},
   "source": [
    "The important thing about this data is that it is **ordinal** and therefore a t-test is less suitable. NOTE: There remains a good deal of debate in the statistical literature around whether a t-test can be used for ordinal opinion data like this. Some think it is fine to use a t-test whereas others think a non-parametric test like the Mann-Whitney U test is more appropriate. The complexities of this debate are beyond this course but it is useful to bear in mind.\n",
    "\n",
    "For now lets assume we need to do a non-parametric test. First we need to formulate our hypotheses:\n",
    "\n",
    "**Null hypothesis: there is no difference between perceptions of visitors from the UK and from outside the UK on the service industry in Edinburgh**\n",
    "\n",
    "**Alternative hypothesis: there is difference between perceptions of visitors from the UK and from outside the UK on the service industry in Edinburgh**\n",
    "\n",
    "Now we need to carry out our test. We do this using the following code below:\n",
    "\n",
    "`wilcox.test(score ~ country, data = hospitality)`\n",
    "\n",
    "**IMPORTANT! A MANN-WHITNEY U TEST IS ALSO REFERRED TO AS A “TWO-SAMPLE WILCOXON TEST”. In R it is known as the latter so don’t get confused, they mean the same thing!**\n",
    "\n",
    "Run the code in the cell below (ignoring the error message that appears which is not important at this stage)."
   ]
  },
  {
   "cell_type": "code",
   "execution_count": null,
   "metadata": {},
   "outputs": [],
   "source": []
  },
  {
   "cell_type": "markdown",
   "metadata": {},
   "source": [
    "What this test is doing \"under-the-hood\" is a little beyond this course but the simplest  interpretation is that it compares the **medians** of the two samples rather than the means (because remember we are looking at non-normally distributed data!). The test output looks similar to a t-test; we have a test statistic \"w\" and a p-value. The interpretation of the p-value is the same and so in the example above we would not reject the null hypothesis and conclude that there is no difference between perceptions of visitors from the UK and from outside the UK on the service industry in Edinburgh."
   ]
  },
  {
   "cell_type": "markdown",
   "metadata": {
    "solution": "shown",
    "solution_first": true
   },
   "source": [
    "## Exercise  4\n",
    "\n",
    "Going back to the `wages` data, run a complete analysis to test whether there are differences im mean wage between residents who are married and those who are single. Make sure you complete all the steps as described during this practical! And also what the interpretation of the results should be in relation to the null hypothesis."
   ]
  },
  {
   "cell_type": "code",
   "execution_count": null,
   "metadata": {
    "solution": "shown"
   },
   "outputs": [],
   "source": []
  },
  {
   "cell_type": "code",
   "execution_count": null,
   "metadata": {
    "solution": "shown"
   },
   "outputs": [],
   "source": []
  },
  {
   "cell_type": "code",
   "execution_count": null,
   "metadata": {
    "solution": "shown",
    "solution2": "hidden",
    "solution2_first": true
   },
   "outputs": [],
   "source": []
  },
  {
   "cell_type": "markdown",
   "metadata": {
    "solution": "shown",
    "solution2": "hidden"
   },
   "source": [
    "Here are the steps you should take:\n",
    "\n",
    "1. First, look at the two distributions with dual histograms to get a visual idea of the potential differences:\n",
    "    \n",
    "    `ggplot(wages, aes(x=wage)) + geom_histogram() + facet_grid(rows=vars(married))`\n",
    "    \n",
    "    \n",
    "2. Next, determine if the variances are equal...\n",
    "\n",
    "    `var.test(wage ~ married, wages)`\n",
    "    \n",
    "\n",
    "2. State the NULL hypothesis for the t-test including whether you are adopting a one or two-tailed approach ( I have gone for two tailed below but one-tailed is not necessarily wrong, but needs to be justified!):\n",
    "\n",
    "    **Null: there is no difference in mean wages between married and single residents** \n",
    "    \n",
    "    (***Note that the one-tailed version would be either \"married residents do not have higher wages than single residents\" or vice versa i.e. \"single residents do not have higher wages than married residents\".***)\n",
    "    \n",
    "\n",
    "3. Complete a t-test analysis remembering to pick the correct t-test. Here we are working with independent samples (i.e. **NOT** paired data so we need to do an independent samples t test and we need to specify the variance as **FALSE** based on the variance test we did earlier.\n",
    "\n",
    "    `t.test(wage ~ married, wages, var.equal=FALSE)`\n",
    "    \n",
    "\n",
    "4. What conclusion can you draw from the t-test result?\n",
    "\n",
    "    **We see a very small p-number and can therefore conclude that there IS a significant difference between married and singles residents wages**\n",
    "    \n",
    "\n",
    "**End of solution**\n",
    "\n",
    "---\n",
    "    "
   ]
  },
  {
   "cell_type": "markdown",
   "metadata": {},
   "source": [
    "## Appendix: Reporting hypothesis testing\n",
    "\n",
    "Here is a useful checklist for reporting the results of a t-test. when doing a t-test it is always best to report everything from the list below:\n",
    "\n",
    "1.\tThe t-statistic itself\n",
    "2.\tThe P-value associated with the test \n",
    "3.\tThe significance level and whether you adopt a neyman-pearson (i.e. the threshold approach) or a fisher approach (treating the p-value as a continuous value with different levels of significance).\n",
    "4.\tThe sample size(s)\n",
    "5.\tWhether the test is one- or two-tailed\n",
    "6.\tWhether you accept or reject null hypothesis. \n"
   ]
  }
 ],
 "metadata": {
  "kernelspec": {
   "display_name": "R with Stan",
   "language": "R",
   "name": "ir"
  },
  "language_info": {
   "codemirror_mode": "r",
   "file_extension": ".r",
   "mimetype": "text/x-r-source",
   "name": "R",
   "pygments_lexer": "r",
   "version": "3.6.3"
  }
 },
 "nbformat": 4,
 "nbformat_minor": 4
}
